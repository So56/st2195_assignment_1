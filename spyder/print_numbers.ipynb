{
 "cells": [
  {
   "cell_type": "markdown",
   "id": "2ac47cb1-a1e1-449a-950e-9891898f2cd0",
   "metadata": {},
   "source": [
    "# Assignment 1 - Python Part\n",
    "This notebook prints integers from 1 to 10.\n",
    "\n",
    "for i in range(1, 11):\n",
    "    print(i)\n"
   ]
  }
 ],
 "metadata": {
  "kernelspec": {
   "display_name": "Python 3 (ipykernel)",
   "language": "python",
   "name": "python3"
  },
  "language_info": {
   "codemirror_mode": {
    "name": "ipython",
    "version": 3
   },
   "file_extension": ".py",
   "mimetype": "text/x-python",
   "name": "python",
   "nbconvert_exporter": "python",
   "pygments_lexer": "ipython3",
   "version": "3.13.5"
  }
 },
 "nbformat": 4,
 "nbformat_minor": 5
}
